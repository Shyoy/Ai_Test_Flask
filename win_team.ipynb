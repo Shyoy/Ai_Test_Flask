{
 "cells": [
  {
   "cell_type": "code",
   "execution_count": 881,
   "metadata": {},
   "outputs": [],
   "source": [
    "import numpy as np\n",
    "import pandas as pd\n",
    "import joblib\n",
    "from sklearn.compose import ColumnTransformer\n",
    "from sklearn.datasets import fetch_openml\n",
    "from sklearn.pipeline import Pipeline\n",
    "from sklearn.impute import SimpleImputer\n",
    "from sklearn.preprocessing import StandardScaler, OneHotEncoder\n",
    "from sklearn.linear_model import LogisticRegression\n",
    "from sklearn.model_selection import train_test_split, GridSearchCV\n",
    "\n",
    "np.random.seed(0)"
   ]
  },
  {
   "cell_type": "code",
   "execution_count": 882,
   "metadata": {},
   "outputs": [
    {
     "name": "stdout",
     "output_type": "stream",
     "text": [
      "<class 'pandas.core.frame.DataFrame'>\n",
      "RangeIndex: 7620 entries, 0 to 7619\n",
      "Data columns (total 13 columns):\n",
      " #   Column       Non-Null Count  Dtype \n",
      "---  ------       --------------  ----- \n",
      " 0   Year         7620 non-null   int64 \n",
      " 1   blueTeamTag  7582 non-null   object\n",
      " 2   redTeamTag   7583 non-null   object\n",
      " 3   blueTop      7583 non-null   object\n",
      " 4   blueJungle   7592 non-null   object\n",
      " 5   blueMiddle   7583 non-null   object\n",
      " 6   blueADC      7583 non-null   object\n",
      " 7   blueSupport  7583 non-null   object\n",
      " 8   redTop       7583 non-null   object\n",
      " 9   redJungle    7596 non-null   object\n",
      " 10  redMiddle    7583 non-null   object\n",
      " 11  redADC       7583 non-null   object\n",
      " 12  redSupport   7583 non-null   object\n",
      "dtypes: int64(1), object(12)\n",
      "memory usage: 774.0+ KB\n"
     ]
    }
   ],
   "source": [
    "cols = ['Year','blueTeamTag','bResult','redTeamTag',\n",
    "    'blueTop','blueJungle','blueMiddle','blueADC','blueSupport','redTop','redJungle','redMiddle','redADC', 'redSupport']\n",
    "df = pd.read_csv('data\\League\\LeagueofLegends.csv', usecols = cols )\n",
    "X = df.drop(columns=['bResult'])\n",
    "y = df['bResult'].astype('category')\n",
    "# df[c] = df[c].str.rstrip('%').astype(float)/100.0\n",
    "\n",
    "X.info()"
   ]
  },
  {
   "cell_type": "code",
   "execution_count": 883,
   "metadata": {},
   "outputs": [
    {
     "data": {
      "text/plain": [
       "array([[2018, 'TTC', 'LGC', 'Papryze', 'Swathe', 'Shok', 'Low',\n",
       "        'Tilting', 'Ceres', 'Sybol', 'Claire', 'Raid', 'Decoy']],\n",
       "      dtype=object)"
      ]
     },
     "execution_count": 883,
     "metadata": {},
     "output_type": "execute_result"
    }
   ],
   "source": [
    "X.tail(1).values"
   ]
  },
  {
   "cell_type": "code",
   "execution_count": 884,
   "metadata": {},
   "outputs": [],
   "source": [
    "# X, y = fetch_openml(\n",
    "#     \"titanic\", version=1, as_frame=True, return_X_y=True, parser=\"pandas\"\n",
    "# )\n",
    "# y.info()\n"
   ]
  },
  {
   "cell_type": "code",
   "execution_count": 885,
   "metadata": {},
   "outputs": [],
   "source": [
    "numeric_features = ['Year']\n",
    "numeric_transformer = Pipeline(\n",
    "    steps=[(\"imputer\", SimpleImputer(strategy=\"median\")), (\"scaler\", StandardScaler())]\n",
    ")\n",
    "\n",
    "categorical_features = ['blueTeamTag','redTeamTag',\n",
    "    'blueTop','blueJungle','blueMiddle','blueADC','blueSupport','redTop','redJungle','redMiddle','redADC', 'redSupport']\n",
    "categorical_transformer = OneHotEncoder(handle_unknown=\"ignore\")\n",
    "\n",
    "preprocessor = ColumnTransformer(\n",
    "    transformers=[\n",
    "        (\"num\", numeric_transformer, numeric_features),\n",
    "        (\"cat\", categorical_transformer, categorical_features),\n",
    "    ]\n",
    ")"
   ]
  },
  {
   "cell_type": "code",
   "execution_count": 886,
   "metadata": {},
   "outputs": [],
   "source": [
    "clf = Pipeline(\n",
    "    steps=[(\"preprocessor\", preprocessor), (\"classifier\", LogisticRegression(solver='lbfgs', max_iter=112))]\n",
    ")\n",
    "\n",
    "X_train, X_test, y_train, y_test = train_test_split(X, y, test_size=0.2, random_state=0)"
   ]
  },
  {
   "cell_type": "code",
   "execution_count": 887,
   "metadata": {},
   "outputs": [
    {
     "name": "stdout",
     "output_type": "stream",
     "text": [
      "model score: 0.657\n"
     ]
    }
   ],
   "source": [
    "\n",
    "\n",
    "clf.fit(X_train, y_train)\n",
    "print(\"model score: %.3f\" % clf.score(X_test, y_test))"
   ]
  },
  {
   "cell_type": "code",
   "execution_count": 888,
   "metadata": {},
   "outputs": [
    {
     "data": {
      "text/plain": [
       "['our_pridction.joblib']"
      ]
     },
     "execution_count": 888,
     "metadata": {},
     "output_type": "execute_result"
    }
   ],
   "source": [
    "joblib.dump(clf, 'our_pridction.joblib')"
   ]
  },
  {
   "cell_type": "code",
   "execution_count": 889,
   "metadata": {},
   "outputs": [
    {
     "data": {
      "text/html": [
       "<div>\n",
       "<style scoped>\n",
       "    .dataframe tbody tr th:only-of-type {\n",
       "        vertical-align: middle;\n",
       "    }\n",
       "\n",
       "    .dataframe tbody tr th {\n",
       "        vertical-align: top;\n",
       "    }\n",
       "\n",
       "    .dataframe thead th {\n",
       "        text-align: right;\n",
       "    }\n",
       "</style>\n",
       "<table border=\"1\" class=\"dataframe\">\n",
       "  <thead>\n",
       "    <tr style=\"text-align: right;\">\n",
       "      <th></th>\n",
       "      <th>Year</th>\n",
       "      <th>blueTeamTag</th>\n",
       "      <th>redTeamTag</th>\n",
       "      <th>blueTop</th>\n",
       "      <th>blueJungle</th>\n",
       "      <th>blueMiddle</th>\n",
       "      <th>blueADC</th>\n",
       "      <th>blueSupport</th>\n",
       "      <th>redTop</th>\n",
       "      <th>redJungle</th>\n",
       "      <th>redMiddle</th>\n",
       "      <th>redADC</th>\n",
       "      <th>redSupport</th>\n",
       "    </tr>\n",
       "  </thead>\n",
       "  <tbody>\n",
       "    <tr>\n",
       "      <th>0</th>\n",
       "      <td>2015</td>\n",
       "      <td>FNC</td>\n",
       "      <td>BDD</td>\n",
       "      <td>Wunder</td>\n",
       "      <td>Razork</td>\n",
       "      <td>Humanoid</td>\n",
       "      <td>Rekkles</td>\n",
       "      <td>Rhuckz</td>\n",
       "      <td>Doran</td>\n",
       "      <td>Peanut</td>\n",
       "      <td>Chovy</td>\n",
       "      <td>Peyz</td>\n",
       "      <td>Delight</td>\n",
       "    </tr>\n",
       "  </tbody>\n",
       "</table>\n",
       "</div>"
      ],
      "text/plain": [
       "   Year blueTeamTag redTeamTag blueTop blueJungle blueMiddle  blueADC  \\\n",
       "0  2015         FNC        BDD  Wunder     Razork   Humanoid  Rekkles   \n",
       "\n",
       "  blueSupport redTop redJungle redMiddle redADC redSupport  \n",
       "0      Rhuckz  Doran    Peanut     Chovy   Peyz    Delight  "
      ]
     },
     "execution_count": 889,
     "metadata": {},
     "output_type": "execute_result"
    }
   ],
   "source": [
    "data = [ [2015],\n",
    "         ['FNC'],  ['BDD'],\n",
    "        ['Wunder'], ['Razork'],['Humanoid'], ['Rekkles'], ['Rhuckz'],\n",
    "        ['Doran'], ['Peanut'], ['Chovy'],['Peyz'], ['Delight']]\n",
    "\n",
    "headers = [\n",
    " 'Year',\n",
    " \n",
    " 'blueTeamTag',\n",
    " \n",
    " 'redTeamTag',\n",
    " 'blueTop',\n",
    " 'blueJungle',\n",
    " 'blueMiddle',\n",
    " 'blueADC',\n",
    " 'blueSupport',\n",
    " 'redTop',\n",
    " 'redJungle',\n",
    " 'redMiddle',\n",
    " 'redADC',\n",
    " 'redSupport']\n",
    "data = dict(zip(headers, data))\n",
    "df_for_predict = pd.DataFrame.from_dict(data)\n",
    "df_for_predict"
   ]
  },
  {
   "cell_type": "code",
   "execution_count": 890,
   "metadata": {},
   "outputs": [
    {
     "data": {
      "text/plain": [
       "array([1], dtype=int64)"
      ]
     },
     "execution_count": 890,
     "metadata": {},
     "output_type": "execute_result"
    }
   ],
   "source": [
    "clf.predict(df_for_predict)"
   ]
  }
 ],
 "metadata": {
  "kernelspec": {
   "display_name": "venv",
   "language": "python",
   "name": "python3"
  },
  "language_info": {
   "codemirror_mode": {
    "name": "ipython",
    "version": 3
   },
   "file_extension": ".py",
   "mimetype": "text/x-python",
   "name": "python",
   "nbconvert_exporter": "python",
   "pygments_lexer": "ipython3",
   "version": "3.10.7"
  },
  "orig_nbformat": 4,
  "vscode": {
   "interpreter": {
    "hash": "a56a96285cb0fa98c6df94fce61bd03e8dc5467049461c871c4de38f7f856732"
   }
  }
 },
 "nbformat": 4,
 "nbformat_minor": 2
}
