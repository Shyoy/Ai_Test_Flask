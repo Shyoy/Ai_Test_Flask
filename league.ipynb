{
 "cells": [
  {
   "cell_type": "markdown",
   "metadata": {},
   "source": [
    "# this is ML example"
   ]
  },
  {
   "cell_type": "code",
   "execution_count": 287,
   "metadata": {},
   "outputs": [
    {
     "name": "stdout",
     "output_type": "stream",
     "text": [
      "<class 'pandas.core.frame.DataFrame'>\n",
      "RangeIndex: 80 entries, 0 to 79\n",
      "Data columns (total 28 columns):\n",
      " #   Column                     Non-Null Count  Dtype  \n",
      "---  ------                     --------------  -----  \n",
      " 0   player                     80 non-null     object \n",
      " 1   team                       80 non-null     object \n",
      " 2   position                   80 non-null     object \n",
      " 3   gold_per_minute            80 non-null     int64  \n",
      " 4   winrate                    80 non-null     object \n",
      " 5   counter_pickrate           80 non-null     object \n",
      " 6   kills                      80 non-null     int64  \n",
      " 7   deaths                     80 non-null     int64  \n",
      " 8   assists                    80 non-null     int64  \n",
      " 9   kda                        80 non-null     float64\n",
      " 10  kp                         80 non-null     object \n",
      " 11  kill_share                 80 non-null     object \n",
      " 12  share_team_deaths          80 non-null     object \n",
      " 13  first_blood_rate           80 non-null     object \n",
      " 14  gold_diff_10               80 non-null     int64  \n",
      " 15  xp_diff_10                 80 non-null     int64  \n",
      " 16  cs_diff_10                 80 non-null     float64\n",
      " 17  cspm                       80 non-null     float64\n",
      " 18  share_team_deaths_15       80 non-null     object \n",
      " 19  damage_per_minute          80 non-null     int64  \n",
      " 20  share_damage               80 non-null     object \n",
      " 21  share_team_damage_15       0 non-null      float64\n",
      " 22  average_gold_per_minute    80 non-null     int64  \n",
      " 23  gold_share                 80 non-null     object \n",
      " 24  neutral_objectives_stolen  0 non-null      float64\n",
      " 25  wards_per_minute           80 non-null     float64\n",
      " 26  control_wards_per_minute   80 non-null     float64\n",
      " 27  wards_cleared_per_minute   80 non-null     float64\n",
      "dtypes: float64(8), int64(8), object(12)\n",
      "memory usage: 17.6+ KB\n"
     ]
    }
   ],
   "source": [
    "# import sys\n",
    "import joblib\n",
    "from sklearn.tree import DecisionTreeClassifier\n",
    "# from sklearn.externals import joblib\n",
    "import pandas as pd\n",
    "\n",
    " \n",
    "# loading data\n",
    "df  =pd.read_csv( 'data\\wc_players_main.csv')\n",
    "df.info()\n"
   ]
  },
  {
   "cell_type": "code",
   "execution_count": 288,
   "metadata": {},
   "outputs": [],
   "source": [
    "# # display the data\n",
    "# music_dt.tail()\n",
    "df = df.drop(columns=['position','team','player','share_team_deaths','neutral_objectives_stolen','counter_pickrate'])\n",
    "\n",
    "# prepare 2 groups (features, output)\n",
    "# X=df.drop(columns=['genre']) # sample features ,[Age,Gender]\n",
    "# Y=df['genre'] # sample output ['genere']\n",
    " \n",
    "# model = DecisionTreeClassifier()\n",
    "# model.fit(X,Y) # load features and sample data\n",
    "# joblib.dump(model, 'our_pridction.joblib') #binary file\n",
    "# predictions= model.predict([[24,1],[27,0]]) # make prediction base on the features and samp output\n",
    "# # Hip,dance\n",
    "# predictions"
   ]
  },
  {
   "cell_type": "code",
   "execution_count": 289,
   "metadata": {},
   "outputs": [],
   "source": [
    "# df.head()['winrate'].values[0]\n",
    "df.dtypes\n",
    "for c ,t in zip(df.columns,df.dtypes):\n",
    "    if str(t) == \"object\":\n",
    "        df[c] = df[c].str.rstrip('%').astype(float)/100.0\n"
   ]
  },
  {
   "cell_type": "code",
   "execution_count": 290,
   "metadata": {},
   "outputs": [
    {
     "name": "stdout",
     "output_type": "stream",
     "text": [
      "<class 'pandas.core.frame.DataFrame'>\n",
      "Int64Index: 64 entries, 66 to 51\n",
      "Data columns (total 5 columns):\n",
      " #   Column             Non-Null Count  Dtype  \n",
      "---  ------             --------------  -----  \n",
      " 0   kills              64 non-null     int64  \n",
      " 1   assists            64 non-null     int64  \n",
      " 2   deaths             64 non-null     int64  \n",
      " 3   cs_diff_10         64 non-null     float64\n",
      " 4   damage_per_minute  64 non-null     int64  \n",
      "dtypes: float64(1), int64(4)\n",
      "memory usage: 3.0 KB\n",
      "None\n",
      "<class 'pandas.core.frame.DataFrame'>\n",
      "Int64Index: 64 entries, 66 to 51\n",
      "Data columns (total 1 columns):\n",
      " #   Column   Non-Null Count  Dtype  \n",
      "---  ------   --------------  -----  \n",
      " 0   winrate  64 non-null     float64\n",
      "dtypes: float64(1)\n",
      "memory usage: 1.0 KB\n",
      "None\n"
     ]
    },
    {
     "name": "stderr",
     "output_type": "stream",
     "text": [
      "C:\\Users\\Shay\\AppData\\Local\\Temp\\ipykernel_16436\\3825289572.py:5: FutureWarning: Explicitly passing `name=None` currently preserves the Series' name or uses a default name of 0. This behaviour is deprecated, and in the future `None` will be used as the name of the resulting DataFrame column.\n",
      "  Y=df['winrate'].to_frame(name=None) # sample output ['genere']\n"
     ]
    }
   ],
   "source": [
    "from sklearn.model_selection import train_test_split\n",
    "\n",
    "# prepare 2 groups (features, output)\n",
    "X=df[['kills', 'assists', 'deaths', 'cs_diff_10','damage_per_minute']] # sample features ,[Age,Gender]\n",
    "Y=df['winrate'].to_frame(name=None) # sample output ['genere']\n",
    "\n",
    "x_train,x_test,y_train,y_test = train_test_split(X,Y ,test_size=0.2)\n",
    " \n",
    "print(x_train.info())\n",
    "print(y_train.info())"
   ]
  },
  {
   "cell_type": "code",
   "execution_count": 291,
   "metadata": {},
   "outputs": [
    {
     "data": {
      "text/plain": [
       "['our_pridction.joblib']"
      ]
     },
     "execution_count": 291,
     "metadata": {},
     "output_type": "execute_result"
    }
   ],
   "source": [
    "from sklearn.linear_model import LinearRegression\n",
    "\n",
    "model = LinearRegression()\n",
    "model.fit(x_train,y_train) # load features and sample data\n",
    "joblib.dump(model, 'our_pridction.joblib') #binary file\n",
    "\n"
   ]
  },
  {
   "cell_type": "code",
   "execution_count": 292,
   "metadata": {},
   "outputs": [
    {
     "data": {
      "text/plain": [
       "0.6918574370537354"
      ]
     },
     "execution_count": 292,
     "metadata": {},
     "output_type": "execute_result"
    }
   ],
   "source": [
    "from sklearn.metrics import accuracy_score\n",
    "\n",
    "\n",
    "model = joblib.load('our_pridction.joblib')\n",
    "acc= model.score(x_test,y_test)\n",
    "acc\n",
    "# score = accuracy_score(y_test, predictions)\n",
    "# score"
   ]
  },
  {
   "cell_type": "code",
   "execution_count": null,
   "metadata": {},
   "outputs": [],
   "source": []
  }
 ],
 "metadata": {
  "kernelspec": {
   "display_name": "venv",
   "language": "python",
   "name": "python3"
  },
  "language_info": {
   "codemirror_mode": {
    "name": "ipython",
    "version": 3
   },
   "file_extension": ".py",
   "mimetype": "text/x-python",
   "name": "python",
   "nbconvert_exporter": "python",
   "pygments_lexer": "ipython3",
   "version": "3.10.7 (tags/v3.10.7:6cc6b13, Sep  5 2022, 14:08:36) [MSC v.1933 64 bit (AMD64)]"
  },
  "orig_nbformat": 4,
  "vscode": {
   "interpreter": {
    "hash": "a56a96285cb0fa98c6df94fce61bd03e8dc5467049461c871c4de38f7f856732"
   }
  }
 },
 "nbformat": 4,
 "nbformat_minor": 2
}
